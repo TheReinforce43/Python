{
 "cells": [
  {
   "cell_type": "code",
   "execution_count": 2,
   "metadata": {},
   "outputs": [],
   "source": [
    "class Gadget:\n",
    "    def __init__(self,brand,price,color) -> None:\n",
    "        self.brand=brand\n",
    "        self.price=price\n",
    "        self.color=color \n",
    "    def run(self):\n",
    "        pass\n",
    "class Laptop:\n",
    "\n",
    "    def __init__(self,memory) -> None:\n",
    "        self.memory=memory\n",
    "    def coding(self):\n",
    "        return f\"Learning Full stack developing\"\n",
    "class Phone:\n",
    "\n",
    "    def __init__(self,dual_sim) -> None:\n",
    "        self.dual_sim=dual_sim\n",
    "class Camera:\n",
    "    def __init__(self,pixel) -> None:\n",
    "        self.pixel=pixel\n"
   ]
  }
 ],
 "metadata": {
  "kernelspec": {
   "display_name": "Python 3",
   "language": "python",
   "name": "python3"
  },
  "language_info": {
   "codemirror_mode": {
    "name": "ipython",
    "version": 3
   },
   "file_extension": ".py",
   "mimetype": "text/x-python",
   "name": "python",
   "nbconvert_exporter": "python",
   "pygments_lexer": "ipython3",
   "version": "3.12.0"
  }
 },
 "nbformat": 4,
 "nbformat_minor": 2
}
